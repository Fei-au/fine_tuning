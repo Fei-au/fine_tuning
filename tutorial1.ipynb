{
 "cells": [
  {
   "cell_type": "code",
   "execution_count": 3,
   "id": "14ec91c9-d378-488f-8d1b-78efd6992fb1",
   "metadata": {},
   "outputs": [],
   "source": [
    "import jsonlines\n",
    "import itertools\n",
    "import pandas as pd\n",
    "from pprint import pprint\n",
    "import datasets\n",
    "import transformers\n",
    "from datasets import load_dataset\n",
    "from lamini import Lamini\n",
    "import os\n",
    "import lamini"
   ]
  },
  {
   "cell_type": "code",
   "execution_count": 4,
   "id": "6170d7de-5562-493d-936a-4e8359175096",
   "metadata": {},
   "outputs": [],
   "source": [
    "lamini.api_key = \"c6a1b973a6abc01cffe698e4a85e5e3027b60ce192c093a0c060a8d2d8e5303b\"\n"
   ]
  },
  {
   "cell_type": "code",
   "execution_count": 6,
   "id": "c530fb63-d713-4e84-9345-437d6ddf0694",
   "metadata": {},
   "outputs": [
    {
     "name": "stdout",
     "output_type": "stream",
     "text": [
      "{'instruction': 'Give three tips for staying healthy.', 'input': '', 'output': '1.Eat a balanced diet and make sure to include plenty of fruits and vegetables. \\n2. Exercise regularly to keep your body active and strong. \\n3. Get enough sleep and maintain a consistent sleep schedule.', 'text': 'Below is an instruction that describes a task. Write a response that appropriately completes the request.\\n\\n### Instruction:\\nGive three tips for staying healthy.\\n\\n### Response:\\n1.Eat a balanced diet and make sure to include plenty of fruits and vegetables. \\n2. Exercise regularly to keep your body active and strong. \\n3. Get enough sleep and maintain a consistent sleep schedule.'}\n",
      "{'instruction': 'What are the three primary colors?', 'input': '', 'output': 'The three primary colors are red, blue, and yellow.', 'text': 'Below is an instruction that describes a task. Write a response that appropriately completes the request.\\n\\n### Instruction:\\nWhat are the three primary colors?\\n\\n### Response:\\nThe three primary colors are red, blue, and yellow.'}\n",
      "{'instruction': 'Describe the structure of an atom.', 'input': '', 'output': 'An atom is made up of a nucleus, which contains protons and neutrons, surrounded by electrons that travel in orbits around the nucleus. The protons and neutrons have a positive charge, while the electrons have a negative charge, resulting in an overall neutral atom. The number of each particle determines the atomic number and the type of atom.', 'text': 'Below is an instruction that describes a task. Write a response that appropriately completes the request.\\n\\n### Instruction:\\nDescribe the structure of an atom.\\n\\n### Response:\\nAn atom is made up of a nucleus, which contains protons and neutrons, surrounded by electrons that travel in orbits around the nucleus. The protons and neutrons have a positive charge, while the electrons have a negative charge, resulting in an overall neutral atom. The number of each particle determines the atomic number and the type of atom.'}\n",
      "{'instruction': 'How can we reduce air pollution?', 'input': '', 'output': 'There are a number of ways to reduce air pollution, such as shifting to renewable energy sources, encouraging the use of public transportation, prohibiting the burning of fossil fuels, implementing policies to reduce emissions from industrial sources, and implementing vehicle emissions standards. Additionally, individuals can do their part to reduce air pollution by reducing car use, avoiding burning materials such as wood, and changing to energy efficient appliances.', 'text': 'Below is an instruction that describes a task. Write a response that appropriately completes the request.\\n\\n### Instruction:\\nHow can we reduce air pollution?\\n\\n### Response:\\nThere are a number of ways to reduce air pollution, such as shifting to renewable energy sources, encouraging the use of public transportation, prohibiting the burning of fossil fuels, implementing policies to reduce emissions from industrial sources, and implementing vehicle emissions standards. Additionally, individuals can do their part to reduce air pollution by reducing car use, avoiding burning materials such as wood, and changing to energy efficient appliances.'}\n",
      "{'instruction': 'Describe a time when you had to make a difficult decision.', 'input': '', 'output': 'I had to make a difficult decision when I was working as a project manager at a construction company. I was in charge of a project that needed to be completed by a certain date in order to meet the client’s expectations. However, due to unexpected delays, we were not able to meet the deadline and so I had to make a difficult decision. I decided to extend the deadline, but I had to stretch the team’s resources even further and increase the budget. Although it was a risky decision, I ultimately decided to go ahead with it to ensure that the project was completed on time and that the client’s expectations were met. The project was eventually successfully completed and this was seen as a testament to my leadership and decision-making abilities.', 'text': 'Below is an instruction that describes a task. Write a response that appropriately completes the request.\\n\\n### Instruction:\\nDescribe a time when you had to make a difficult decision.\\n\\n### Response:\\nI had to make a difficult decision when I was working as a project manager at a construction company. I was in charge of a project that needed to be completed by a certain date in order to meet the client’s expectations. However, due to unexpected delays, we were not able to meet the deadline and so I had to make a difficult decision. I decided to extend the deadline, but I had to stretch the team’s resources even further and increase the budget. Although it was a risky decision, I ultimately decided to go ahead with it to ensure that the project was completed on time and that the client’s expectations were met. The project was eventually successfully completed and this was seen as a testament to my leadership and decision-making abilities.'}\n"
     ]
    }
   ],
   "source": [
    "instruction_tuned_dataset = load_dataset(\"tatsu-lab/alpaca\", split=\"train\", streaming=True)\n",
    "m = 5\n",
    "top_m = list(itertools.islice(instruction_tuned_dataset, m))\n",
    "for j in top_m:\n",
    "    print(j)"
   ]
  },
  {
   "cell_type": "code",
   "execution_count": 7,
   "id": "9d940c82-d0fe-4d09-b15d-63c51416336b",
   "metadata": {},
   "outputs": [
    {
     "name": "stdout",
     "output_type": "stream",
     "text": [
      "{'input': 'Below is an instruction that describes a task. Write a response that appropriately completes the request.\\n\\n### Instruction:\\nGive three tips for staying healthy.\\n\\n### Response:', 'output': '1.Eat a balanced diet and make sure to include plenty of fruits and vegetables. \\n2. Exercise regularly to keep your body active and strong. \\n3. Get enough sleep and maintain a consistent sleep schedule.'}\n"
     ]
    }
   ],
   "source": [
    "processed_data = []\n",
    "prompt_template_without_input = '''Below is an instruction that describes a task. Write a response that appropriately completes the request.\n",
    "\n",
    "### Instruction:\n",
    "{instruction}\n",
    "\n",
    "### Response:'''\n",
    "prompt_template_with_input = ('''\n",
    "Below is an instruction that describes a task. Write a response that appropriately completes the request.\n",
    "\n",
    "### Instruction:\n",
    "{instruction}\n",
    "\n",
    "### Input:\n",
    "{input}\n",
    "\n",
    "### Response:''')\n",
    "for j in top_m:\n",
    "    if j[\"input\"]:\n",
    "        processed_prompt = prompt_template_with_input.format(instruction=j[\"instruction\"], input=j[\"input\"])\n",
    "    else:\n",
    "        processed_prompt = prompt_template_without_input.format(instruction=j[\"instruction\"])\n",
    "    processed_data.append({\"input\": processed_prompt, \"output\": j[\"output\"]})\n",
    "print(processed_data[0])"
   ]
  },
  {
   "cell_type": "code",
   "execution_count": 8,
   "id": "295a5ec8-f6d0-4919-b111-a31e922d35ae",
   "metadata": {},
   "outputs": [],
   "source": [
    "with jsonlines.open(\"alpaca_processed.jsonl\", \"w\") as writer:\n",
    "    writer.write_all(processed_data)"
   ]
  },
  {
   "cell_type": "code",
   "execution_count": 9,
   "id": "5bd3f3c6-cc53-479d-afb8-541a12ab19a7",
   "metadata": {},
   "outputs": [
    {
     "name": "stdout",
     "output_type": "stream",
     "text": [
      "DatasetDict({\n",
      "    train: Dataset({\n",
      "        features: ['input', 'output'],\n",
      "        num_rows: 52002\n",
      "    })\n",
      "})\n"
     ]
    }
   ],
   "source": [
    "dataset_hf = load_dataset(\"lamini/alpaca\")\n",
    "print(dataset_hf)"
   ]
  },
  {
   "cell_type": "code",
   "execution_count": 10,
   "id": "a1fdca15-8b1a-4600-b273-f72eb6af9095",
   "metadata": {},
   "outputs": [
    {
     "name": "stdout",
     "output_type": "stream",
     "text": [
      "\n",
      "\n",
      "While animals are known for their impressive memory abilities, some species stand out for their exceptional memory capabilities. Here are some of the top contenders:\n",
      "\n",
      "1. **Chimpanzees**: Our closest living relatives in the animal kingdom, chimpanzees have been observed to possess excellent memory. They can recall:\n",
      "\t* Complex social hierarchies and relationships\n",
      "\t* Tool use and usage\n",
      "\t* Food sources and locations\n",
      "\t* Even human faces and interactions\n",
      "2. **Dolphins**: These intelligent marine mammals have been known to:\n",
      "\t* Recognize and remember individual humans, including their voices and faces\n",
      "\t* Recall complex social behaviors and relationships\n",
      "\t* Learn and perform tricks and tasks\n",
      "\t* Even recognize themselves in mirrors\n",
      "3. **Elephants**: With their large brains and complex social structures, elephants have impressive memory abilities:\n",
      "\t* They can remember:\n",
      "\t\t+ Family members and social relationships\n",
      "\t\t+ Migration routes and habitats\n",
      "\t\t+ Water sources and food locations\n",
      "\t\t+ Even the location of waterholes and watering holes\n",
      "4. **Crows and Ravens**: These intelligent birds are renowned for their problem-solving abilities and memory:\n",
      "\t* They can recall:\n",
      "\t\t+ Tool use and usage\n",
      "\t\t+ Food sources and locations\n",
      "\t\t+ Social relationships and hierarchies\n",
      "\t\t+ Even the location of hidden food caches\n",
      "5. **Parrots**: Some parrot species, like African Greys and Amazon parrots, are known for their exceptional memory:\n",
      "\t* They can learn and recall:\n",
      "\t\t+ Hundreds of words and phrases\n",
      "\t\t+ Complex vocalizations and songs\n",
      "\t\t+ Social relationships and interactions\n",
      "\t\t+ Even the location of food sources and hiding spots\n",
      "\n",
      "However, if I had to pick one animal that stands out for its exceptional memory, I'd say it's the **Octopus**. These cephalopods have been observed to possess:\n",
      "\n",
      "* **Exceptional spatial memory**: They can recall the location of individual objects, including food sources, and even the layout of complex underwater environments.\n",
      "* **Long-term memory**: Octopuses can remember and recognize individual humans, as well as other octopuses, for months or even years.\n",
      "* **Problem-solving abilities**: They can solve complex puzzles and learn from experience, demonstrating a high level of cognitive flexibility.\n",
      "\n",
      "So, while other animals are certainly impressive in their own right, the octopus's remarkable memory abilities make it a strong contender for the title of \"animal that remembers facts the best.\"\n"
     ]
    }
   ],
   "source": [
    "\n",
    "llm = Lamini(\"meta-llama/Llama-3.2-3B-Instruct\")\n",
    "print(\n",
    "    llm.generate(\n",
    "        \"<|begin_of_text|><|start_header_id|>user<|end_header_id|>Which animal remembers facts the best?<|eot_id|><|start_header_id|>assistant<|end_header_id|>\"\n",
    "    )\n",
    ")\n"
   ]
  },
  {
   "cell_type": "code",
   "execution_count": 11,
   "id": "f523c78b-bde1-4508-be9c-cdd3cf953471",
   "metadata": {},
   "outputs": [
    {
     "name": "stdout",
     "output_type": "stream",
     "text": [
      "I'm just an AI, I don't have personal opinions or beliefs, but I can provide you with some interesting facts about animals and their memory abilities.\n",
      "\n",
      "Some animals are known to have exceptional memory abilities, including:\n",
      "\n",
      "1. Elephants: Elephants have been observed to have excellent memory skills, particularly when it comes to remembering their herd members, their social hierarchy, and their territory. They have been known to recognize and greet old friends and family members after many years of separation.\n",
      "2. Dolphins: Dolphins are known to have excellent memory and cognitive abilities, including the ability to recognize and remember individual humans. They have been observed to remember and respond to complex commands and tasks after many years of training.\n",
      "3. Octopuses: Octopuses have been found to have excellent memory skills, particularly when it comes to remembering complex patterns and tasks. They have been observed to solve problems and complete tasks after many years of training.\n",
      "4. Ravens: Ravens are known to have excellent memory skills, particularly when it comes to remembering and recognizing individual faces. They have been observed to recognize and remember faces after many years of exposure.\n",
      "5. Honeybees: Honeybees have been found to have excellent memory skills, particularly when it comes to remembering the location of food sources. They have been observed to remember the location of food sources and return to them after many years of absence.\n",
      "\n",
      "These are just a few examples of animals that have been observed to have exceptional memory abilities. However, it's important to note that memory abilities can vary greatly between species, and it's difficult to make direct comparisons between them. |end_of_text|>\n"
     ]
    }
   ],
   "source": [
    "\n",
    "llm = Lamini(\"meta-llama/Llama-2-7b-chat-hf\")\n",
    "print(\n",
    "    llm.generate(\n",
    "        \"<|begin_of_text|><|start_header_id|>user<|end_header_id|>Which animal remembers facts the best?<|eot_id|><|start_header_id|>assistant<|end_header_id|>\"\n",
    "    )\n",
    ")"
   ]
  },
  {
   "cell_type": "code",
   "execution_count": 13,
   "id": "674ab738-a107-4f92-b6bd-26ade7b6f14c",
   "metadata": {},
   "outputs": [],
   "source": [
    "# chatgpt = Lamini(\"chat-gpt\")\n",
    "# instruct_output_chatgpt = chatgpt.generate(\n",
    "#     \"<|begin_of_text|><|start_header_id|>user<|end_header_id|>Which animal remembers facts the best?<|eot_id|><|start_header_id|>assistant<|end_header_id|>\"\n",
    "# )\n",
    "# print(instruct_output_chatgpt)"
   ]
  },
  {
   "cell_type": "code",
   "execution_count": 7,
   "id": "09784484-f161-41e6-8fc2-22f8d75c2a03",
   "metadata": {},
   "outputs": [],
   "source": [
    "from transformers import AutoTokenizer, AutoModelForCausalLM\n",
    "from transformers import AutoModelForSeq2SeqLM, AutoTokenizer"
   ]
  },
  {
   "cell_type": "code",
   "execution_count": 8,
   "id": "99fb7241-b13c-4a43-9119-65d7bfd256b1",
   "metadata": {
    "editable": true,
    "slideshow": {
     "slide_type": ""
    },
    "tags": []
   },
   "outputs": [],
   "source": [
    "tokenizer = AutoTokenizer.from_pretrained(\"EleutherAI/pythia-70m\")\n",
    "model = AutoModelForCausalLM.from_pretrained(\"EleutherAI/pythia-70m\")"
   ]
  },
  {
   "cell_type": "code",
   "execution_count": 6,
   "id": "d2b9fca4-5b7b-4500-b804-2c2d639e99b9",
   "metadata": {},
   "outputs": [],
   "source": [
    "def inference(text, model, tokenizer, max_input_tokens=1000,max_output_token=1000):\n",
    "    input_ids = tokenizer.encode(\n",
    "        text,\n",
    "        return_tensors=\"pt\",\n",
    "        truncation=True,\n",
    "        max_length=max_input_tokens\n",
    "    )\n",
    "    device = model.device\n",
    "    generated_tokens_with_prompt = model.generate(\n",
    "        input_ids=input_ids.to(device),\n",
    "        max_length=max_output_tokens\n",
    "    )\n",
    "\n",
    "    generated_text_with_prompt = tokenizer.batch_decode(generated_tokens_with_prompt)\n",
    "\n",
    "    generated_text_answer = generated_text_with_prompt[0][len(text):]\n",
    "\n",
    "    return generated_text_answer\n",
    "    "
   ]
  },
  {
   "cell_type": "code",
   "execution_count": null,
   "id": "ff48c1b1-46b8-4633-98ab-27e24dffb675",
   "metadata": {},
   "outputs": [],
   "source": []
  }
 ],
 "metadata": {
  "kernelspec": {
   "display_name": "Python 3 (ipykernel)",
   "language": "python",
   "name": "python3"
  },
  "language_info": {
   "codemirror_mode": {
    "name": "ipython",
    "version": 3
   },
   "file_extension": ".py",
   "mimetype": "text/x-python",
   "name": "python",
   "nbconvert_exporter": "python",
   "pygments_lexer": "ipython3",
   "version": "3.11.5"
  }
 },
 "nbformat": 4,
 "nbformat_minor": 5
}
